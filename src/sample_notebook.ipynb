{
 "cells": [
  {
   "cell_type": "markdown",
   "id": "edce9ff562ad1109",
   "metadata": {
    "collapsed": false
   },
   "source": []
  },
  {
   "cell_type": "code",
   "execution_count": null,
   "id": "initial_id",
   "metadata": {
    "is_executing": true
   },
   "outputs": [],
   "source": [
    "from finx.client import FinXClient\n",
    "print('FinXClient imported')\n",
    "finx = FinXClient(\n",
    "    finx_api_key='FINX_API_KEY', \n",
    "    finx_api_endpoint='FINX_API_ENDPOINT'\n",
    ")\n",
    "print('FinXClient initialized')"
   ]
  },
  {
   "cell_type": "code",
   "execution_count": null,
   "id": "84351f2feb24e80b",
   "metadata": {
    "collapsed": false
   },
   "outputs": [],
   "source": []
  }
 ],
 "metadata": {
  "kernelspec": {
   "display_name": "Python 3 (ipykernel)",
   "language": "python",
   "name": "python3"
  },
  "language_info": {
   "codemirror_mode": {
    "name": "ipython",
    "version": 2
   },
   "file_extension": ".py",
   "mimetype": "text/x-python",
   "name": "python",
   "nbconvert_exporter": "python",
   "pygments_lexer": "ipython2",
   "version": "2.7.6"
  }
 },
 "nbformat": 4,
 "nbformat_minor": 5
}
